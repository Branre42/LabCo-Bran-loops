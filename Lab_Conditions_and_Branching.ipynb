{
  "nbformat": 4,
  "nbformat_minor": 0,
  "metadata": {
    "colab": {
      "provenance": [],
      "authorship_tag": "ABX9TyNYK3mNKbnsNHQEc7Y0PDPk",
      "include_colab_link": true
    },
    "kernelspec": {
      "name": "python3",
      "display_name": "Python 3"
    },
    "language_info": {
      "name": "python"
    }
  },
  "cells": [
    {
      "cell_type": "markdown",
      "metadata": {
        "id": "view-in-github",
        "colab_type": "text"
      },
      "source": [
        "<a href=\"https://colab.research.google.com/github/Branre42/LabCo-Bran-loops/blob/main/Lab_Conditions_and_Branching.ipynb\" target=\"_parent\"><img src=\"https://colab.research.google.com/assets/colab-badge.svg\" alt=\"Open In Colab\"/></a>"
      ]
    },
    {
      "cell_type": "code",
      "execution_count": null,
      "metadata": {
        "id": "Vcq8biu87Vd0"
      },
      "outputs": [],
      "source": [
        "# Write your code below and press Shift+Enter to execute\n",
        "#1. There are 2 sisters, Annie and Jane, born in 1996 and 1999 respectively.\n",
        "#They want to know who was born in a leap year. Write an if-else statement to determine who was born in a leap year.\n",
        "a = 1996\n",
        "j = 1999\n",
        "x = 4\n",
        "\n",
        "y = a%x\n",
        "z = j%x\n",
        "\n",
        "\n",
        "if y == 0:\n",
        "  print ('Annie was born in a leap year')\n",
        "elif z == 0:\n",
        " print ('Jane was born in a leap year')\n",
        "else:\n",
        "    print ('Anybody was not born in a leap year')\n",
        "\n",
        "\n",
        "\n",
        "\n",
        "\n",
        "\n",
        "\n",
        "\n"
      ]
    },
    {
      "cell_type": "code",
      "source": [
        "# 2. In a school canteen, children under the age of 9 are only given milk porridge for breakfast.\n",
        "# Children from 10 to 14 are given a sandwich, and children from 15 to 17 are given a burger.\n",
        "# The canteen master asks the age of the student and gives them breakfast accordingly. Sam's age is 10.\n",
        "#  Use if-else statement to determine what the canteen master will offer to him.¶\n",
        "\n",
        "Sam = 10\n",
        "if Sam <= 9:\n",
        "  print ('Give milk')\n",
        "elif Sam >= 10 or Sam <= 14:\n",
        "  print ('Give sandwich')\n",
        "elif Sam >= 15 or Sam <= 17:\n",
        "  print ('Give a burger')\n",
        "\n",
        "\n",
        "\n",
        "\n"
      ],
      "metadata": {
        "id": "1KgszhzV_OSg"
      },
      "execution_count": null,
      "outputs": []
    },
    {
      "cell_type": "code",
      "source": [
        "for i in range (-5,5):\n",
        "  print (i)"
      ],
      "metadata": {
        "id": "2wscYBnSS991"
      },
      "execution_count": null,
      "outputs": []
    },
    {
      "cell_type": "code",
      "source": [
        "#Print the elements of the following list: Genres=[ 'rock', 'R&B', 'Soundtrack', 'R&B', 'soul', 'pop'] Make sure you follow Python conventions.\n",
        "Genres =[ 'rock', 'R&B', 'Soundtrack', 'R&B', 'soul', 'pop']\n",
        "\n",
        "for genre in Genres:\n",
        "  print (genre)\n"
      ],
      "metadata": {
        "id": "2BPHaqPqTAe8"
      },
      "execution_count": null,
      "outputs": []
    },
    {
      "cell_type": "code",
      "source": [
        "#Write a for loop that prints out the following list: squares=['red', 'yellow', 'green', 'purple', 'blue']\n",
        "squares=['red', 'yellow', 'green', 'purple', 'blue']\n",
        "\n",
        "for square in squares:\n",
        "  print (square)"
      ],
      "metadata": {
        "id": "pBX4CIeeTCpA"
      },
      "execution_count": null,
      "outputs": []
    },
    {
      "cell_type": "code",
      "source": [
        "#Write a while loop to display the values of the Rating of an album playlist stored in the list PlayListRatings.\n",
        "#If the score is less than 6, exit the loop. The list PlayListRatings is given by: PlayListRatings = [10, 9.5, 10, 8, 7.5, 5, 10, 10]\n",
        "PlayListRatings = [10, 9.5, 10, 8, 7.5, 5, 10, 10]\n",
        "i = 0\n",
        "play = PlayListRatings[0]\n",
        "\n",
        "while (play > 6):\n",
        "  print (play)\n",
        "  i = i + 1\n",
        "  play = PlayListRatings[i]\n",
        "\n",
        "print (\"It took \", i ,\"repetitions to get out of loop.\")"
      ],
      "metadata": {
        "id": "iff2SYSYTFkG"
      },
      "execution_count": null,
      "outputs": []
    },
    {
      "cell_type": "code",
      "source": [
        "#Write a while loop to copy the strings 'orange' of the list squares to the list new_squares.\n",
        "#Stop and exit the loop if the value on the list is not 'orange':\n",
        "\n",
        "squares = ['orange', 'orange', 'purple', 'blue ', 'orange']\n",
        "new_squares = []\n",
        "i=0\n",
        "while(i < len(squares) and squares[i] == 'orange'):\n",
        "  new_squares.append(squares[i])\n",
        "  i=i+1\n",
        "print (new_squares)"
      ],
      "metadata": {
        "id": "ATiiCAKlTHCE"
      },
      "execution_count": null,
      "outputs": []
    },
    {
      "cell_type": "code",
      "source": [
        "#Your little brother has just learned multiplication tables in school.\n",
        "#Today he has learned tables of 6 and 7. Help him memorise both the tables by printing them using for loop.\n",
        "print ('------Multiplication of 6-------')\n",
        "for i in range (10):\n",
        "  print ('6*',i)\n",
        "  print (6*i)\n",
        "print ('------Multiplication of 7-------')\n",
        "for i in range (10):\n",
        "  print ('7*',i)\n",
        "  print (7*i)"
      ],
      "metadata": {
        "id": "iNoIbz_DTItz"
      },
      "execution_count": null,
      "outputs": []
    },
    {
      "cell_type": "code",
      "source": [
        "#The following is a list of animals in a National Zoo. Animals = [\"lion\", \"giraffe\", \"gorilla\", \"parrots\", \"crocodile\",\"deer\", \"swan\"]\n",
        "\n",
        "#Your brother needs to write an essay on the animals whose names are made of 7 letters.\n",
        "#Help him find those animals through a while loop and create a separate list of such animals.\n",
        "\n",
        "animals = [\"lion\", \"giraffe\", \"gorilla\", \"parrots\", \"crocodile\",\"deer\", \"swan\"]\n",
        "\n",
        "newanimals = []\n",
        "i=0\n",
        "j=0\n",
        "while i<len(animals):\n",
        "  j=animals[i]\n",
        "  if len(j)==7:\n",
        "    newanimals.append(j)\n",
        "  i=i+1\n",
        "print(newanimals)"
      ],
      "metadata": {
        "id": "9vF9pu6JTKeV"
      },
      "execution_count": null,
      "outputs": []
    }
  ]
}