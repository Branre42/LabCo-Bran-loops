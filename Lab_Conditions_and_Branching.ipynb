{
  "nbformat": 4,
  "nbformat_minor": 0,
  "metadata": {
    "colab": {
      "provenance": [],
      "authorship_tag": "ABX9TyNYK3mNKbnsNHQEc7Y0PDPk",
      "include_colab_link": true
    },
    "kernelspec": {
      "name": "python3",
      "display_name": "Python 3"
    },
    "language_info": {
      "name": "python"
    }
  },
  "cells": [
    {
      "cell_type": "markdown",
      "metadata": {
        "id": "view-in-github",
        "colab_type": "text"
      },
      "source": [
        "<a href=\"https://colab.research.google.com/github/Branre42/LabCo-Bran-loops/blob/main/Lab_Conditions_and_Branching.ipynb\" target=\"_parent\"><img src=\"https://colab.research.google.com/assets/colab-badge.svg\" alt=\"Open In Colab\"/></a>"
      ]
    },
    {
      "cell_type": "code",
      "execution_count": null,
      "metadata": {
        "colab": {
          "base_uri": "https://localhost:8080/"
        },
        "id": "Vcq8biu87Vd0",
        "outputId": "2504ff36-9545-4b82-ad06-abe4c3352ff7"
      },
      "outputs": [
        {
          "output_type": "stream",
          "name": "stdout",
          "text": [
            "Annie was born in a leap year\n"
          ]
        }
      ],
      "source": [
        "# Write your code below and press Shift+Enter to execute\n",
        "#1. There are 2 sisters, Annie and Jane, born in 1996 and 1999 respectively.\n",
        "#They want to know who was born in a leap year. Write an if-else statement to determine who was born in a leap year.\n",
        "a = 1996\n",
        "j = 1999\n",
        "x = 4\n",
        "\n",
        "y = a%x\n",
        "z = j%x\n",
        "\n",
        "\n",
        "if y == 0:\n",
        "  print ('Annie was born in a leap year')\n",
        "elif z == 0:\n",
        " print ('Jane was born in a leap year')\n",
        "else:\n",
        "    print ('Anybody was not born in a leap year')\n",
        "\n",
        "\n",
        "\n",
        "\n",
        "\n",
        "\n",
        "\n",
        "\n"
      ]
    },
    {
      "cell_type": "code",
      "source": [
        "# 2. In a school canteen, children under the age of 9 are only given milk porridge for breakfast.\n",
        "# Children from 10 to 14 are given a sandwich, and children from 15 to 17 are given a burger.\n",
        "# The canteen master asks the age of the student and gives them breakfast accordingly. Sam's age is 10.\n",
        "#  Use if-else statement to determine what the canteen master will offer to him.¶\n",
        "\n",
        "Sam = 10\n",
        "if Sam <= 9:\n",
        "  print ('Give milk')\n",
        "elif Sam >= 10 or Sam <= 14:\n",
        "  print ('Give sandwich')\n",
        "elif Sam >= 15 or Sam <= 17:\n",
        "  print ('Give a burger')\n",
        "\n",
        "\n",
        "\n",
        "\n"
      ],
      "metadata": {
        "colab": {
          "base_uri": "https://localhost:8080/"
        },
        "id": "1KgszhzV_OSg",
        "outputId": "0324cdee-baa7-4e99-e2c6-4bc2c9cde65c"
      },
      "execution_count": 8,
      "outputs": [
        {
          "output_type": "stream",
          "name": "stdout",
          "text": [
            "Give sandwich\n"
          ]
        }
      ]
    },
    {
      "cell_type": "code",
      "source": [
        "for i in range (-5,5):\n",
        "  print (i)"
      ],
      "metadata": {
        "colab": {
          "base_uri": "https://localhost:8080/"
        },
        "id": "2wscYBnSS991",
        "outputId": "a11b58e1-3339-4f2a-c602-87e3b8ab962e"
      },
      "execution_count": 1,
      "outputs": [
        {
          "output_type": "stream",
          "name": "stdout",
          "text": [
            "-5\n",
            "-4\n",
            "-3\n",
            "-2\n",
            "-1\n",
            "0\n",
            "1\n",
            "2\n",
            "3\n",
            "4\n"
          ]
        }
      ]
    },
    {
      "cell_type": "code",
      "source": [
        "#Print the elements of the following list: Genres=[ 'rock', 'R&B', 'Soundtrack', 'R&B', 'soul', 'pop'] Make sure you follow Python conventions.\n",
        "Genres =[ 'rock', 'R&B', 'Soundtrack', 'R&B', 'soul', 'pop']\n",
        "\n",
        "for genre in Genres:\n",
        "  print (genre)\n"
      ],
      "metadata": {
        "colab": {
          "base_uri": "https://localhost:8080/"
        },
        "id": "2BPHaqPqTAe8",
        "outputId": "e2e6440c-f389-4d96-f68e-e18258c9f82a"
      },
      "execution_count": 7,
      "outputs": [
        {
          "output_type": "stream",
          "name": "stdout",
          "text": [
            "rock\n",
            "R&B\n",
            "Soundtrack\n",
            "R&B\n",
            "soul\n",
            "pop\n"
          ]
        }
      ]
    },
    {
      "cell_type": "code",
      "source": [
        "#Write a for loop that prints out the following list: squares=['red', 'yellow', 'green', 'purple', 'blue']\n",
        "squares=['red', 'yellow', 'green', 'purple', 'blue']\n",
        "\n",
        "for square in squares:\n",
        "  print (square)"
      ],
      "metadata": {
        "colab": {
          "base_uri": "https://localhost:8080/"
        },
        "id": "pBX4CIeeTCpA",
        "outputId": "7478fd94-32e0-48ae-ca96-25706dd4cb07"
      },
      "execution_count": 6,
      "outputs": [
        {
          "output_type": "stream",
          "name": "stdout",
          "text": [
            "red\n",
            "yellow\n",
            "green\n",
            "purple\n",
            "blue\n"
          ]
        }
      ]
    },
    {
      "cell_type": "code",
      "source": [
        "#Write a while loop to display the values of the Rating of an album playlist stored in the list PlayListRatings.\n",
        "#If the score is less than 6, exit the loop. The list PlayListRatings is given by: PlayListRatings = [10, 9.5, 10, 8, 7.5, 5, 10, 10]\n",
        "PlayListRatings = [10, 9.5, 10, 8, 7.5, 5, 10, 10]\n",
        "i = 0\n",
        "play = PlayListRatings[0]\n",
        "\n",
        "while (play > 6):\n",
        "  print (play)\n",
        "  i = i + 1\n",
        "  play = PlayListRatings[i]\n",
        "\n",
        "print (\"It took \", i ,\"repetitions to get out of loop.\")"
      ],
      "metadata": {
        "colab": {
          "base_uri": "https://localhost:8080/"
        },
        "id": "iff2SYSYTFkG",
        "outputId": "01b5b4a4-1f0d-4638-d64c-0f1880cdcc1d"
      },
      "execution_count": 4,
      "outputs": [
        {
          "output_type": "stream",
          "name": "stdout",
          "text": [
            "10\n",
            "9.5\n",
            "10\n",
            "8\n",
            "7.5\n",
            "It took  5 repetitions to get out of loop.\n"
          ]
        }
      ]
    },
    {
      "cell_type": "code",
      "source": [
        "#Write a while loop to copy the strings 'orange' of the list squares to the list new_squares.\n",
        "#Stop and exit the loop if the value on the list is not 'orange':\n",
        "\n",
        "squares = ['orange', 'orange', 'purple', 'blue ', 'orange']\n",
        "new_squares = []\n",
        "i=0\n",
        "while(i < len(squares) and squares[i] == 'orange'):\n",
        "  new_squares.append(squares[i])\n",
        "  i=i+1\n",
        "print (new_squares)"
      ],
      "metadata": {
        "colab": {
          "base_uri": "https://localhost:8080/"
        },
        "id": "ATiiCAKlTHCE",
        "outputId": "6a416cd3-0b73-4930-a96f-88046b25540c"
      },
      "execution_count": 5,
      "outputs": [
        {
          "output_type": "stream",
          "name": "stdout",
          "text": [
            "['orange', 'orange']\n"
          ]
        }
      ]
    },
    {
      "cell_type": "code",
      "source": [
        "#Your little brother has just learned multiplication tables in school.\n",
        "#Today he has learned tables of 6 and 7. Help him memorise both the tables by printing them using for loop.\n",
        "print ('------Multiplication of 6-------')\n",
        "for i in range (10):\n",
        "  print ('6*',i)\n",
        "  print (6*i)\n",
        "print ('------Multiplication of 7-------')\n",
        "for i in range (10):\n",
        "  print ('7*',i)\n",
        "  print (7*i)"
      ],
      "metadata": {
        "colab": {
          "base_uri": "https://localhost:8080/"
        },
        "id": "iNoIbz_DTItz",
        "outputId": "b2d383ce-64db-4e74-daa6-adc2124c1124"
      },
      "execution_count": 3,
      "outputs": [
        {
          "output_type": "stream",
          "name": "stdout",
          "text": [
            "------Multiplication of 6-------\n",
            "6* 0\n",
            "0\n",
            "6* 1\n",
            "6\n",
            "6* 2\n",
            "12\n",
            "6* 3\n",
            "18\n",
            "6* 4\n",
            "24\n",
            "6* 5\n",
            "30\n",
            "6* 6\n",
            "36\n",
            "6* 7\n",
            "42\n",
            "6* 8\n",
            "48\n",
            "6* 9\n",
            "54\n",
            "------Multiplication of 7-------\n",
            "7* 0\n",
            "0\n",
            "7* 1\n",
            "7\n",
            "7* 2\n",
            "14\n",
            "7* 3\n",
            "21\n",
            "7* 4\n",
            "28\n",
            "7* 5\n",
            "35\n",
            "7* 6\n",
            "42\n",
            "7* 7\n",
            "49\n",
            "7* 8\n",
            "56\n",
            "7* 9\n",
            "63\n"
          ]
        }
      ]
    },
    {
      "cell_type": "code",
      "source": [
        "#The following is a list of animals in a National Zoo. Animals = [\"lion\", \"giraffe\", \"gorilla\", \"parrots\", \"crocodile\",\"deer\", \"swan\"]\n",
        "\n",
        "#Your brother needs to write an essay on the animals whose names are made of 7 letters.\n",
        "#Help him find those animals through a while loop and create a separate list of such animals.\n",
        "\n",
        "animals = [\"lion\", \"giraffe\", \"gorilla\", \"parrots\", \"crocodile\",\"deer\", \"swan\"]\n",
        "\n",
        "newanimals = []\n",
        "i=0\n",
        "j=0\n",
        "while i<len(animals):\n",
        "  j=animals[i]\n",
        "  if len(j)==7:\n",
        "    newanimals.append(j)\n",
        "  i=i+1\n",
        "print(newanimals)"
      ],
      "metadata": {
        "colab": {
          "base_uri": "https://localhost:8080/"
        },
        "id": "9vF9pu6JTKeV",
        "outputId": "32831ac6-56ac-45a5-94bf-e64bd7fbe4ea"
      },
      "execution_count": 2,
      "outputs": [
        {
          "output_type": "stream",
          "name": "stdout",
          "text": [
            "['giraffe', 'gorilla', 'parrots']\n"
          ]
        }
      ]
    }
  ]
}